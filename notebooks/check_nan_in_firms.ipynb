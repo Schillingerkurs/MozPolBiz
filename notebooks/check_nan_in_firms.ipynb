{
 "cells": [
  {
   "cell_type": "code",
   "execution_count": 1,
   "metadata": {},
   "outputs": [],
   "source": [
    "from pathlib import Path\n",
    "import random\n",
    "import pandas as pd\n",
    "\n",
    "\n",
    "\n",
    "\n",
    "\n",
    "df = pd.read_pickle(\"../data/interim/firmregister_full.pkl\")"
   ]
  },
  {
   "cell_type": "code",
   "execution_count": 2,
   "metadata": {},
   "outputs": [
    {
     "data": {
      "text/plain": [
       "Beneficial owner\n",
       "[nan]                                                                28887\n",
       "[]                                                                     140\n",
       "[Fátima Cassamo Arrone Mamudo]                                          44\n",
       "[Raimundo Domingos Pachinuapa, Asghar Fakhr Ale Ali]                    36\n",
       "[Eduardo Alberto da Costa Calú, José Manuel Caldeira]                   32\n",
       "                                                                     ...  \n",
       "[Fahar Shamsherali Acabarali Kara ]                                      1\n",
       "[Samer Dhaini, Zaher Wehbi Dhaini]                                       1\n",
       "[Moyj Madatbhai Nayani, Rozina Patani]                                   1\n",
       "[Armindo António Xavier, Trsula Daniela Pais, Patrícia Yara Pais]        1\n",
       "[Jason Carl Driscoll, Brendon Clyde Bekker]                              1\n",
       "Name: count, Length: 91739, dtype: int64"
      ]
     },
     "execution_count": 2,
     "metadata": {},
     "output_type": "execute_result"
    }
   ],
   "source": [
    "df['Beneficial owner'].value_counts(dropna = False)\n",
    "\n"
   ]
  }
 ],
 "metadata": {
  "kernelspec": {
   "display_name": ".venv",
   "language": "python",
   "name": "python3"
  },
  "language_info": {
   "codemirror_mode": {
    "name": "ipython",
    "version": 3
   },
   "file_extension": ".py",
   "mimetype": "text/x-python",
   "name": "python",
   "nbconvert_exporter": "python",
   "pygments_lexer": "ipython3",
   "version": "3.12.3"
  }
 },
 "nbformat": 4,
 "nbformat_minor": 2
}
